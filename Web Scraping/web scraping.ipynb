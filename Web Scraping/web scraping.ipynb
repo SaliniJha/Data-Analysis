{
 "cells": [
  {
   "cell_type": "code",
   "execution_count": 1,
   "id": "8ae94d12",
   "metadata": {},
   "outputs": [],
   "source": [
    "#importing BeautifulSoup class from bs4 library\n",
    "from bs4 import BeautifulSoup\n",
    "#importing requests\n",
    "import requests\n",
    "#importing pandas\n",
    "import pandas as pd"
   ]
  },
  {
   "cell_type": "code",
   "execution_count": 17,
   "id": "2478a8dc",
   "metadata": {},
   "outputs": [],
   "source": [
    "#URL of the Wikipedia page\n",
    "url = \"https://en.wikipedia.org/wiki/World_Tourism_rankings\"\n",
    "\n",
    "# Fetch the page\n",
    "response = requests.get(url)\n",
    "soup = BeautifulSoup(response.content, 'html.parser')\n"
   ]
  },
  {
   "cell_type": "code",
   "execution_count": 18,
   "id": "e0fc896e",
   "metadata": {},
   "outputs": [],
   "source": [
    "tables = soup.find_all('table', {'class': 'wikitable'})"
   ]
  },
  {
   "cell_type": "code",
   "execution_count": 19,
   "id": "640119a5",
   "metadata": {},
   "outputs": [],
   "source": [
    "target_table = tables[0]"
   ]
  },
  {
   "cell_type": "code",
   "execution_count": 20,
   "id": "372a82de",
   "metadata": {},
   "outputs": [],
   "source": [
    "headers = []\n",
    "for th in target_table.find_all('th'):\n",
    "    headers.append(th.get_text(strip=True))"
   ]
  },
  {
   "cell_type": "code",
   "execution_count": 21,
   "id": "07c21b2a",
   "metadata": {},
   "outputs": [],
   "source": [
    "rows = []\n",
    "for tr in target_table.find_all('tr')[1:]:  # skip header row\n",
    "    cells = tr.find_all(['td', 'th'])  # some tables use 'th' for first column\n",
    "    row = [cell.get_text(strip=True) for cell in cells]\n",
    "    if row:  # only append non-empty rows\n",
    "        rows.append(row)"
   ]
  },
  {
   "cell_type": "code",
   "execution_count": 22,
   "id": "1868cb68",
   "metadata": {},
   "outputs": [],
   "source": [
    "if len(headers) > len(rows[0]):\n",
    "    headers = headers[:len(rows[0])]"
   ]
  },
  {
   "cell_type": "code",
   "execution_count": 23,
   "id": "5263abcc",
   "metadata": {},
   "outputs": [],
   "source": [
    "df = pd.DataFrame(rows, columns=headers)"
   ]
  },
  {
   "cell_type": "code",
   "execution_count": 24,
   "id": "fc6ac3ed",
   "metadata": {},
   "outputs": [
    {
     "name": "stdout",
     "output_type": "stream",
     "text": [
      "  Rank    Destination 2024[1] Change(2023 to2024)(%) 2023[4] 2022[3]  \\\n",
      "0    1         France     102                      2     100    79.4   \n",
      "1    2          Spain    93.8                   10.1    85.2    71.7   \n",
      "2    3  United States    72.4                    8.3    66.5    50.9   \n",
      "3    4         Turkey    60.6                   10.5    55.2    50.5   \n",
      "4    5          Italy    57.9                    1.4    57.2    49.8   \n",
      "\n",
      "  Change(2022 to2023)(%) Change(2021 to2022)(%)  \n",
      "0                   25.9                     64  \n",
      "1                   18.8                    130  \n",
      "2                   30.6                    130  \n",
      "3                    9.3                     69  \n",
      "4                   14.8                     85  \n"
     ]
    }
   ],
   "source": [
    "print(df.head())"
   ]
  },
  {
   "cell_type": "code",
   "execution_count": null,
   "id": "1584f0d6",
   "metadata": {},
   "outputs": [],
   "source": []
  }
 ],
 "metadata": {
  "kernelspec": {
   "display_name": "Python 3 (ipykernel)",
   "language": "python",
   "name": "python3"
  },
  "language_info": {
   "codemirror_mode": {
    "name": "ipython",
    "version": 3
   },
   "file_extension": ".py",
   "mimetype": "text/x-python",
   "name": "python",
   "nbconvert_exporter": "python",
   "pygments_lexer": "ipython3",
   "version": "3.11.5"
  }
 },
 "nbformat": 4,
 "nbformat_minor": 5
}
